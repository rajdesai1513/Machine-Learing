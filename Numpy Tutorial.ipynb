{
 "cells": [
  {
   "cell_type": "markdown",
   "id": "9ded377b-afa7-4b01-b193-02237951a1d1",
   "metadata": {},
   "source": [
    "# Learning Numpy"
   ]
  },
  {
   "cell_type": "code",
   "execution_count": 1,
   "id": "d57e6b93-7c60-4439-9071-f19093ff0e3c",
   "metadata": {},
   "outputs": [],
   "source": [
    "import numpy as np"
   ]
  },
  {
   "cell_type": "markdown",
   "id": "8a2cd3a2-3246-412b-a62b-78a46c16bc89",
   "metadata": {},
   "source": [
    "Numpy Integer"
   ]
  },
  {
   "cell_type": "code",
   "execution_count": 2,
   "id": "f4b2c33d-aa05-4c00-a226-ed80187d412f",
   "metadata": {},
   "outputs": [
    {
     "name": "stdout",
     "output_type": "stream",
     "text": [
      "[1 2 3 4 5]\n",
      "int32\n",
      "4\n"
     ]
    }
   ],
   "source": [
    "my_array=np.array([1,2,3,4,5])\n",
    "print(my_array)\n",
    "print(my_array.dtype)\n",
    "print(my_array.dtype.itemsize)"
   ]
  },
  {
   "cell_type": "markdown",
   "id": "43ddc414-571d-4b3c-b094-18a116fe5710",
   "metadata": {},
   "source": [
    "Numpy String"
   ]
  },
  {
   "cell_type": "code",
   "execution_count": 3,
   "id": "a475fac3-5194-4442-b6f7-55ff1a178f53",
   "metadata": {},
   "outputs": [
    {
     "name": "stdout",
     "output_type": "stream",
     "text": [
      "['Delhi' 'Mumbai' 'Kolkata']\n",
      "<U7\n",
      "28\n"
     ]
    }
   ],
   "source": [
    "my_array=np.array([\"Delhi\",\"Mumbai\",\"Kolkata\"])\n",
    "print(my_array)\n",
    "print(my_array.dtype)\n",
    "print(my_array.dtype.itemsize)"
   ]
  },
  {
   "cell_type": "markdown",
   "id": "5e6ad5fd-9e77-4854-92b7-21304c5fa3db",
   "metadata": {},
   "source": [
    "Numpy Datetime"
   ]
  },
  {
   "cell_type": "code",
   "execution_count": 4,
   "id": "a576fd6a-11a6-4a84-8f07-1e501f3a49fd",
   "metadata": {},
   "outputs": [
    {
     "name": "stdout",
     "output_type": "stream",
     "text": [
      "['2020-05-05' '2023-07-07' '2001-10-11']\n",
      "<U10\n",
      "40\n"
     ]
    }
   ],
   "source": [
    "my_array=np.array([\"2020-05-05\",\"2023-07-07\",\"2001-10-11\"])\n",
    "print(my_array)\n",
    "print(my_array.dtype)\n",
    "print(my_array.dtype.itemsize)"
   ]
  },
  {
   "cell_type": "markdown",
   "id": "782774ad-2182-4665-90b2-68258ea1fee4",
   "metadata": {},
   "source": [
    "Use of Numpy astype"
   ]
  },
  {
   "cell_type": "code",
   "execution_count": 5,
   "id": "426c6a0a-e0ef-46b3-8666-c33acd7d7cdb",
   "metadata": {},
   "outputs": [
    {
     "name": "stdout",
     "output_type": "stream",
     "text": [
      "['2020-05-05' '2023-07-07' '2001-10-11']\n",
      "datetime64[D]\n",
      "8\n"
     ]
    }
   ],
   "source": [
    "my_array=my_array.astype(\"M\")\n",
    "print(my_array)\n",
    "print(my_array.dtype)\n",
    "print(my_array.dtype.itemsize)"
   ]
  },
  {
   "cell_type": "code",
   "execution_count": 6,
   "id": "97206913-422a-4f47-94ef-8822d8b285ad",
   "metadata": {},
   "outputs": [
    {
     "name": "stdout",
     "output_type": "stream",
     "text": [
      "[b'2020-05-05' b'2023-07-07' b'2001-10-11']\n",
      "|S28\n",
      "28\n"
     ]
    }
   ],
   "source": [
    "my_array=my_array.astype(\"S\")\n",
    "print(my_array)\n",
    "print(my_array.dtype)\n",
    "print(my_array.dtype.itemsize)"
   ]
  },
  {
   "cell_type": "markdown",
   "id": "f376c348-19f1-442f-b0f2-5b338ca00a97",
   "metadata": {},
   "source": [
    "Use of Numpy dtype while creating array"
   ]
  },
  {
   "cell_type": "code",
   "execution_count": 7,
   "id": "7f60b804-50d0-49f0-b254-3ca02375b0e3",
   "metadata": {},
   "outputs": [
    {
     "name": "stdout",
     "output_type": "stream",
     "text": [
      "['2020-05-05' '2023-07-07' '2001-10-11']\n",
      "datetime64[D]\n",
      "8\n"
     ]
    }
   ],
   "source": [
    "my_array=np.array([\"2020-05-05\",\"2023-07-07\",\"2001-10-11\"],dtype=\"M\")\n",
    "print(my_array)\n",
    "print(my_array.dtype)\n",
    "print(my_array.dtype.itemsize)"
   ]
  },
  {
   "cell_type": "markdown",
   "id": "eda42ec2-91a7-4bc5-871c-efff8d7fc0af",
   "metadata": {},
   "source": [
    "Use of type function"
   ]
  },
  {
   "cell_type": "code",
   "execution_count": 8,
   "id": "cf14768c-4ad5-41d3-bad8-cd364aa7c46f",
   "metadata": {},
   "outputs": [
    {
     "data": {
      "text/plain": [
       "numpy.ndarray"
      ]
     },
     "execution_count": 8,
     "metadata": {},
     "output_type": "execute_result"
    }
   ],
   "source": [
    "nums_list=[1,2,3,4,5]\n",
    "my_array=np.array(nums_list)\n",
    "type(my_array)"
   ]
  },
  {
   "cell_type": "markdown",
   "id": "71e42ae5-2044-4eea-b69d-a644c16b5fd5",
   "metadata": {},
   "source": [
    "Use of Numpy shape"
   ]
  },
  {
   "cell_type": "code",
   "execution_count": 9,
   "id": "5e17fd17-3eca-426c-b31f-45e9c2044d16",
   "metadata": {},
   "outputs": [
    {
     "data": {
      "text/plain": [
       "(3, 4)"
      ]
     },
     "execution_count": 9,
     "metadata": {},
     "output_type": "execute_result"
    }
   ],
   "source": [
    "row1=[1,2,3,4]\n",
    "row2=[1,2,3,4]\n",
    "row3=[1,2,3,4]\n",
    "# lis=[row1,row2,row3]\n",
    "# lis\n",
    "my_array=np.array([row1,row2,row3])\n",
    "my_array.shape"
   ]
  },
  {
   "cell_type": "markdown",
   "id": "19a59dba-fec9-4108-9465-0e60e0f8347c",
   "metadata": {},
   "source": [
    "Use of Numpy arange function"
   ]
  },
  {
   "cell_type": "code",
   "execution_count": 10,
   "id": "437089cf-ac9a-4daa-a03a-0d3cd4f0b5ad",
   "metadata": {},
   "outputs": [
    {
     "data": {
      "text/plain": [
       "array([1, 2, 3, 4, 5, 6, 7, 8, 9])"
      ]
     },
     "execution_count": 10,
     "metadata": {},
     "output_type": "execute_result"
    }
   ],
   "source": [
    "my_array=np.arange(1,10)\n",
    "my_array"
   ]
  },
  {
   "cell_type": "markdown",
   "id": "d6e64eb2-f3a4-4bef-a305-45657339ce28",
   "metadata": {},
   "source": [
    "Use of Numpy arange function with stepsize"
   ]
  },
  {
   "cell_type": "code",
   "execution_count": 11,
   "id": "18481b05-8dc8-46d0-b3a3-d4678501ae7e",
   "metadata": {},
   "outputs": [
    {
     "data": {
      "text/plain": [
       "array([ 1,  3,  5,  7,  9, 11, 13, 15, 17, 19, 21, 23, 25, 27, 29])"
      ]
     },
     "execution_count": 11,
     "metadata": {},
     "output_type": "execute_result"
    }
   ],
   "source": [
    "my_array=np.arange(1,30,2)\n",
    "my_array"
   ]
  },
  {
   "cell_type": "code",
   "execution_count": 12,
   "id": "9d17b2f6-3e0e-4927-a537-e7f25ee31d1d",
   "metadata": {},
   "outputs": [
    {
     "ename": "SyntaxError",
     "evalue": "invalid syntax (3346729662.py, line 1)",
     "output_type": "error",
     "traceback": [
      "\u001b[1;36m  Cell \u001b[1;32mIn[12], line 1\u001b[1;36m\u001b[0m\n\u001b[1;33m    Use of Numpy ones function\u001b[0m\n\u001b[1;37m        ^\u001b[0m\n\u001b[1;31mSyntaxError\u001b[0m\u001b[1;31m:\u001b[0m invalid syntax\n"
     ]
    }
   ],
   "source": [
    "Use of Numpy ones function"
   ]
  },
  {
   "cell_type": "code",
   "execution_count": 15,
   "id": "fdf81159-9812-4b87-95df-f8d63a9fdee2",
   "metadata": {},
   "outputs": [
    {
     "data": {
      "text/plain": [
       "array([1, 1, 1, 1, 1, 1], dtype=int32)"
      ]
     },
     "execution_count": 15,
     "metadata": {},
     "output_type": "execute_result"
    }
   ],
   "source": [
    "#1-D ones Array\n",
    "my_array=np.ones(6,dtype=\"i\")\n",
    "my_array"
   ]
  },
  {
   "cell_type": "code",
   "execution_count": 14,
   "id": "6c07e694-9650-45d1-a146-ec8d4e408479",
   "metadata": {},
   "outputs": [
    {
     "data": {
      "text/plain": [
       "array([[1, 1, 1],\n",
       "       [1, 1, 1]], dtype=int32)"
      ]
     },
     "execution_count": 14,
     "metadata": {},
     "output_type": "execute_result"
    }
   ],
   "source": [
    "#2-D ones Array\n",
    "my_array=np.ones([2,3],dtype=\"i\")\n",
    "my_array"
   ]
  },
  {
   "cell_type": "markdown",
   "id": "26bb2aae-ce1f-448f-a9ae-e7ae4ceaece4",
   "metadata": {},
   "source": [
    "Use of Numpy zeroes function"
   ]
  },
  {
   "cell_type": "code",
   "execution_count": null,
   "id": "6ed4c4f5-5623-4fa1-890e-49a1af437b83",
   "metadata": {},
   "outputs": [],
   "source": [
    "#1-D zeroes Array\n",
    "my_array=np.zeros(6,dtype=\"i\")\n",
    "my_array"
   ]
  },
  {
   "cell_type": "code",
   "execution_count": null,
   "id": "89372633-bd47-4a6f-a1c3-03129fe8f544",
   "metadata": {},
   "outputs": [],
   "source": [
    "#2-D zeroes Array\n",
    "my_array=np.zeros([2,3],dtype=\"i\")\n",
    "my_array"
   ]
  },
  {
   "cell_type": "markdown",
   "id": "524b8612-ab8e-4062-a8ab-078294824995",
   "metadata": {},
   "source": [
    "Use of Numpy eye function to create Identity Matrix"
   ]
  },
  {
   "cell_type": "code",
   "execution_count": null,
   "id": "29585a0a-9f72-48a5-9565-79e0f56a7749",
   "metadata": {},
   "outputs": [],
   "source": [
    "my_array=np.eye(3,dtype=\"i\")\n",
    "my_array"
   ]
  },
  {
   "cell_type": "markdown",
   "id": "309d7590-3b43-4ae6-acc9-15940f59639c",
   "metadata": {},
   "source": [
    "Creation of Random numbers array using NumPy"
   ]
  },
  {
   "cell_type": "code",
   "execution_count": 16,
   "id": "d0d4821e-b15c-41ab-bbb7-a312fb5d6f2b",
   "metadata": {},
   "outputs": [
    {
     "data": {
      "text/plain": [
       "array([[0.29795712, 0.57806311, 0.90472703],\n",
       "       [0.80858808, 0.99065445, 0.02919526]])"
      ]
     },
     "execution_count": 16,
     "metadata": {},
     "output_type": "execute_result"
    }
   ],
   "source": [
    "#using random distribution\n",
    "my_array=np.random.rand(2,3)\n",
    "my_array"
   ]
  },
  {
   "cell_type": "code",
   "execution_count": null,
   "id": "8ed84c13-ae4c-46d9-adc3-78c4caca16ec",
   "metadata": {},
   "outputs": [],
   "source": [
    "#Using normal distribution\n",
    "my_array=np.random.randn(2,3)\n",
    "my_array"
   ]
  },
  {
   "cell_type": "code",
   "execution_count": null,
   "id": "dbc92a73-be4c-4969-8904-c8af00985be8",
   "metadata": {},
   "outputs": [],
   "source": [
    "#Generating random Integers\n",
    "my_array=np.random.randint(5,50,5)\n",
    "my_array\n"
   ]
  },
  {
   "cell_type": "markdown",
   "id": "2dc4924f-5d2b-4d5a-97b3-1083cca2d0ed",
   "metadata": {},
   "source": [
    "Use of Slicing and Indexing,Assignment"
   ]
  },
  {
   "cell_type": "code",
   "execution_count": 17,
   "id": "2a020167-c775-4d29-9eb1-06222d6395b5",
   "metadata": {},
   "outputs": [
    {
     "data": {
      "text/plain": [
       "array([2, 3, 4])"
      ]
     },
     "execution_count": 17,
     "metadata": {},
     "output_type": "execute_result"
    }
   ],
   "source": [
    "my_array=np.array([1,2,3,4,5])\n",
    "my_array[1:4]"
   ]
  },
  {
   "cell_type": "code",
   "execution_count": null,
   "id": "9d375da0-90ca-452b-8de2-1ccfc803bafa",
   "metadata": {},
   "outputs": [],
   "source": [
    "my_array=np.array([1,2,3,4,5])\n",
    "my_array[2]=15\n",
    "my_array"
   ]
  },
  {
   "cell_type": "markdown",
   "id": "39a9f02d-c941-41f0-9556-8005a96806c7",
   "metadata": {},
   "source": [
    "Use of Numpy Reshape\n"
   ]
  },
  {
   "cell_type": "code",
   "execution_count": null,
   "id": "dc9c35fd-3abb-48f8-8073-9f4220791885",
   "metadata": {},
   "outputs": [],
   "source": [
    "# Reshaping from lower to higher dimensions\n",
    "two_d_array = np.random.randint(1,20,size=(4,6))\n",
    "three_d_array = np.reshape(two_d_array,(3,4,2))\n",
    "print(two_d_array)\n",
    "three_d_array"
   ]
  },
  {
   "cell_type": "code",
   "execution_count": null,
   "id": "b25eae71-9fc4-4138-87e7-0773ba5fe6f7",
   "metadata": {},
   "outputs": [],
   "source": [
    "#Reshaping from higher to lower dimensions\n",
    "two_d_array = np.random.randint(1,20,size=(3,4,2))\n",
    "three_d_array = np.reshape(two_d_array,(4,6))\n",
    "print(two_d_array)\n",
    "three_d_array"
   ]
  },
  {
   "cell_type": "markdown",
   "id": "a19d7833-94e0-4ede-a821-ba177a3c9505",
   "metadata": {},
   "source": [
    "Use of Transpose function"
   ]
  },
  {
   "cell_type": "code",
   "execution_count": null,
   "id": "691a5644-ddea-4068-b967-b6eac87d61c1",
   "metadata": {},
   "outputs": [],
   "source": [
    "two_d_array = np.random.randint(1,20,size=(4,6))\n",
    "transpose_matrix=np.transpose(two_d_array)\n",
    "transpose_matrix"
   ]
  },
  {
   "cell_type": "code",
   "execution_count": null,
   "id": "0022f4fa-192c-4954-94dd-b11554fbabdc",
   "metadata": {},
   "outputs": [],
   "source": [
    "array=np.array([1,2,3,4,5])\n",
    "array[:-1]"
   ]
  },
  {
   "cell_type": "markdown",
   "id": "036d26b1-0b7e-4ce2-8c15-01cef1ad5e8d",
   "metadata": {},
   "source": [
    "Creating and Opening of CSV files and Reading from text files"
   ]
  },
  {
   "cell_type": "code",
   "execution_count": null,
   "id": "72dd1070-f087-4520-bd05-e6f96d05d421",
   "metadata": {},
   "outputs": [],
   "source": [
    "two_d_array = np.random.randint(1,20,size=(4,6))\n",
    "two_d_array.tofile('File1.csv',\",\")\n",
    "np.savetxt('File2.csv',two_d_array,delimiter=\",\")\n",
    "new_array=np.genfromtxt('Text.txt',delimiter=\",\")\n",
    "new_array"
   ]
  },
  {
   "cell_type": "markdown",
   "id": "e1631386-be4c-4e78-a290-96356f0c106d",
   "metadata": {},
   "source": [
    "Benchmarking Performance between Numpy array and List"
   ]
  },
  {
   "cell_type": "code",
   "execution_count": null,
   "id": "62b76060-cdb0-4303-8d19-8ace621775c3",
   "metadata": {},
   "outputs": [],
   "source": [
    "two_d_array = np.random.randint(1,2000,size=(100,100))\n",
    "two_d_array_2 = np.random.randint(1,2000,size=(100,100))\n",
    "ls=list(two_d_array)\n",
    "ls_2=list(two_d_array_2)\n",
    "ls_2[1][1]"
   ]
  },
  {
   "cell_type": "code",
   "execution_count": null,
   "id": "d66e74d0-7d52-48e3-97cd-061347ae1af8",
   "metadata": {},
   "outputs": [],
   "source": [
    "import time"
   ]
  },
  {
   "cell_type": "code",
   "execution_count": null,
   "id": "a8261265-eb23-442f-8ce9-9fe2058bf8f2",
   "metadata": {},
   "outputs": [],
   "source": [
    "#Time for Numpy arrays\n",
    "start=time.time()\n",
    "nm_result=two_d_array.copy()\n",
    "result=np.matmul(two_d_array,two_d_array_2)\n",
    "# for i in range(100):\n",
    "#     for j in range(100):\n",
    "#         for k in range(100):\n",
    "#             nm_result[i][j]+=(ls[i][k]*ls[k][j])\n",
    "end=time.time()\n",
    "print(f\"Numpy Time: {end-start}\")\n",
    "ls_result=ls.copy()\n",
    "\n",
    "#Time for List\n",
    "ls_start=time.time()\n",
    "for i in range(100):\n",
    "    for j in range(100):\n",
    "        for k in range(100):\n",
    "            ls_result[i][j]+=(ls[i][k]*ls[k][j])\n",
    "ls_end=time.time()\n",
    "print(f\"List Time: {ls_end-ls_start}\")\n"
   ]
  },
  {
   "cell_type": "code",
   "execution_count": null,
   "id": "24d31439-713b-41cb-82bb-475b88985fcf",
   "metadata": {},
   "outputs": [],
   "source": []
  }
 ],
 "metadata": {
  "kernelspec": {
   "display_name": "Python 3 (ipykernel)",
   "language": "python",
   "name": "python3"
  },
  "language_info": {
   "codemirror_mode": {
    "name": "ipython",
    "version": 3
   },
   "file_extension": ".py",
   "mimetype": "text/x-python",
   "name": "python",
   "nbconvert_exporter": "python",
   "pygments_lexer": "ipython3",
   "version": "3.12.4"
  }
 },
 "nbformat": 4,
 "nbformat_minor": 5
}
